{
 "cells": [
  {
   "cell_type": "code",
   "execution_count": 1,
   "id": "ba782da1",
   "metadata": {},
   "outputs": [],
   "source": [
    "import pandas as pd\n",
    "import numpy as np\n",
    "import matplotlib.pyplot as plt\n",
    "import seaborn as sns"
   ]
  },
  {
   "cell_type": "code",
   "execution_count": 2,
   "id": "1bfc17d3",
   "metadata": {},
   "outputs": [],
   "source": [
    "ncp_df = pd.read_excel('../data/Historic_Nashville_City_Cemetery_Interments__1846-1979.xlsx')"
   ]
  },
  {
   "cell_type": "code",
   "execution_count": 3,
   "id": "a6ce7e19",
   "metadata": {},
   "outputs": [
    {
     "data": {
      "text/html": [
       "<div>\n",
       "<style scoped>\n",
       "    .dataframe tbody tr th:only-of-type {\n",
       "        vertical-align: middle;\n",
       "    }\n",
       "\n",
       "    .dataframe tbody tr th {\n",
       "        vertical-align: top;\n",
       "    }\n",
       "\n",
       "    .dataframe thead th {\n",
       "        text-align: right;\n",
       "    }\n",
       "</style>\n",
       "<table border=\"1\" class=\"dataframe\">\n",
       "  <thead>\n",
       "    <tr style=\"text-align: right;\">\n",
       "      <th></th>\n",
       "      <th>Volume</th>\n",
       "      <th>Name</th>\n",
       "      <th>Burial Month</th>\n",
       "      <th>Month No.</th>\n",
       "      <th>Burial Day</th>\n",
       "      <th>Burial Year</th>\n",
       "      <th>Sex</th>\n",
       "      <th>Race</th>\n",
       "      <th>Age</th>\n",
       "      <th>Residence</th>\n",
       "      <th>Cause of Death/Burial</th>\n",
       "      <th>Ave</th>\n",
       "      <th>Section/Lot</th>\n",
       "      <th>Remarks</th>\n",
       "    </tr>\n",
       "  </thead>\n",
       "  <tbody>\n",
       "    <tr>\n",
       "      <th>0</th>\n",
       "      <td>6B</td>\n",
       "      <td>Bell, Nancy Ann</td>\n",
       "      <td>Aug</td>\n",
       "      <td>8.0</td>\n",
       "      <td>6.0</td>\n",
       "      <td>1979.0</td>\n",
       "      <td>F</td>\n",
       "      <td>W</td>\n",
       "      <td>10.0</td>\n",
       "      <td>NaN</td>\n",
       "      <td>NaN</td>\n",
       "      <td>Oak</td>\n",
       "      <td>sec. 28 NW, lot 12</td>\n",
       "      <td>J. L. Hughes lot</td>\n",
       "    </tr>\n",
       "    <tr>\n",
       "      <th>1</th>\n",
       "      <td>6W</td>\n",
       "      <td>Drake, Mary Edith Smith, Mrs.</td>\n",
       "      <td>May</td>\n",
       "      <td>5.0</td>\n",
       "      <td>19.0</td>\n",
       "      <td>1979.0</td>\n",
       "      <td>F</td>\n",
       "      <td>W</td>\n",
       "      <td>67.0</td>\n",
       "      <td>Madison, Tenn</td>\n",
       "      <td>Cancer</td>\n",
       "      <td>Locust, Boyd Lot</td>\n",
       "      <td>lot 10</td>\n",
       "      <td>wife of Alex M. Drake, Madison Funeral Home Of...</td>\n",
       "    </tr>\n",
       "    <tr>\n",
       "      <th>2</th>\n",
       "      <td>6D</td>\n",
       "      <td>Davis, Bessie</td>\n",
       "      <td>Sep</td>\n",
       "      <td>9.0</td>\n",
       "      <td>19.0</td>\n",
       "      <td>1979.0</td>\n",
       "      <td>F</td>\n",
       "      <td>W</td>\n",
       "      <td>90.0</td>\n",
       "      <td>Nashville</td>\n",
       "      <td>Old Age</td>\n",
       "      <td>Poplar</td>\n",
       "      <td>McAllister, E25, lot 8</td>\n",
       "      <td>daughter of Helen Davis</td>\n",
       "    </tr>\n",
       "    <tr>\n",
       "      <th>3</th>\n",
       "      <td>6C</td>\n",
       "      <td>Creech, Emily Green</td>\n",
       "      <td>Aug</td>\n",
       "      <td>8.0</td>\n",
       "      <td>NaN</td>\n",
       "      <td>1978.0</td>\n",
       "      <td>F</td>\n",
       "      <td>W</td>\n",
       "      <td>91.0</td>\n",
       "      <td>Nashville</td>\n",
       "      <td>NaN</td>\n",
       "      <td>sect.ion 9</td>\n",
       "      <td>15.0</td>\n",
       "      <td>Magnolia</td>\n",
       "    </tr>\n",
       "    <tr>\n",
       "      <th>4</th>\n",
       "      <td>6W</td>\n",
       "      <td>Creech, Emily Green</td>\n",
       "      <td>Aug</td>\n",
       "      <td>8.0</td>\n",
       "      <td>NaN</td>\n",
       "      <td>1978.0</td>\n",
       "      <td>F</td>\n",
       "      <td>W</td>\n",
       "      <td>91.0</td>\n",
       "      <td>Nashville, Tennessee</td>\n",
       "      <td>NaN</td>\n",
       "      <td>NaN</td>\n",
       "      <td>NaN</td>\n",
       "      <td>Malgnolia</td>\n",
       "    </tr>\n",
       "  </tbody>\n",
       "</table>\n",
       "</div>"
      ],
      "text/plain": [
       "  Volume                           Name Burial Month  Month No.  Burial Day  \\\n",
       "0     6B                Bell, Nancy Ann          Aug        8.0         6.0   \n",
       "1     6W  Drake, Mary Edith Smith, Mrs.          May        5.0        19.0   \n",
       "2     6D                  Davis, Bessie          Sep        9.0        19.0   \n",
       "3     6C            Creech, Emily Green          Aug        8.0         NaN   \n",
       "4     6W            Creech, Emily Green          Aug        8.0         NaN   \n",
       "\n",
       "   Burial Year Sex Race   Age             Residence Cause of Death/Burial  \\\n",
       "0       1979.0   F    W  10.0                   NaN                   NaN   \n",
       "1       1979.0   F    W  67.0         Madison, Tenn                Cancer   \n",
       "2       1979.0   F    W  90.0             Nashville               Old Age   \n",
       "3       1978.0   F    W  91.0             Nashville                   NaN   \n",
       "4       1978.0   F    W  91.0  Nashville, Tennessee                   NaN   \n",
       "\n",
       "                Ave             Section/Lot  \\\n",
       "0               Oak      sec. 28 NW, lot 12   \n",
       "1  Locust, Boyd Lot                  lot 10   \n",
       "2            Poplar  McAllister, E25, lot 8   \n",
       "3        sect.ion 9                    15.0   \n",
       "4               NaN                     NaN   \n",
       "\n",
       "                                             Remarks  \n",
       "0                                   J. L. Hughes lot  \n",
       "1  wife of Alex M. Drake, Madison Funeral Home Of...  \n",
       "2                            daughter of Helen Davis  \n",
       "3                                           Magnolia  \n",
       "4                                          Malgnolia  "
      ]
     },
     "execution_count": 3,
     "metadata": {},
     "output_type": "execute_result"
    }
   ],
   "source": [
    "ncp_df.head()"
   ]
  },
  {
   "cell_type": "markdown",
   "id": "82cd0f3a",
   "metadata": {},
   "source": [
    "2. **Most Common Causes of Death.**  \n",
    "   a. Find the 10 most common (known) recorded causes of death.  \n",
    "   b. Clean up some of the misspellings. Use the [`replace` method](https://pandas.pydata.org/docs/reference/api/pandas.DataFrame.replace.html) to clean up some of the causes of death. For example, replace \"Cholrea\" with \"Cholera\" and \"Still Born\" with \"Stillborn\".   \n",
    "   **Bonus (Save For Last):** One method of detecting and correcting misspellings is fuzzy matching using metrics like [Levenshtein distance](https://en.wikipedia.org/wiki/Levenshtein_distance). Check out [thefuzz](https://github.com/seatgeek/thefuzz) a library that implements fuzzy matching and apply it to detect and correct misspellings.  \n",
    "   c. After correcting the spellings, find the 10 most common causes of death and create a bar chart to display your findings.  \n"
   ]
  },
  {
   "cell_type": "code",
   "execution_count": 4,
   "id": "47628016",
   "metadata": {},
   "outputs": [
    {
     "data": {
      "text/plain": [
       "Consumption     1767\n",
       "Unknown         1260\n",
       "Still Born       841\n",
       "Cholrea          667\n",
       "Not Known        639\n",
       "Old Age          604\n",
       "Cholera          575\n",
       "Pneumonia        516\n",
       "Flux             469\n",
       "Complication     446\n",
       "Name: Cause of Death/Burial, dtype: int64"
      ]
     },
     "execution_count": 4,
     "metadata": {},
     "output_type": "execute_result"
    }
   ],
   "source": [
    "#a. Find the 10 most common (known) recorded causes of death.\n",
    "\n",
    "ncp_df_vc = ncp_df['Cause of Death/Burial'].value_counts()\n",
    "#above shows only top and bottom few, so doing .head\n",
    "ncp_df_vc.head(10)"
   ]
  },
  {
   "cell_type": "markdown",
   "id": "4436189a",
   "metadata": {},
   "source": [
    "b. Clean up some of the misspellings. Use the replace method to clean up some of the causes of death. For example, replace \"Cholrea\" with \"Cholera\" and \"Still Born\" with \"Stillborn\"."
   ]
  },
  {
   "cell_type": "code",
   "execution_count": 5,
   "id": "2a17ce9e",
   "metadata": {},
   "outputs": [],
   "source": [
    "#based changes below on ncp_df_vc.head(40). have to re-do it after changes \n",
    "\n",
    "ncp_df = ncp_df.replace('Cholrea', 'Cholera')\n",
    "ncp_df = ncp_df.replace('Colera*', 'Cholera', regex=True)\n",
    "ncp_df = ncp_df.replace(['Still Born', 'Stil Born'], ['Stillborn', 'Stillborn'])\n",
    "ncp_df = ncp_df.replace(['Not Known', 'Measels', 'Complicated', 'Teethin'], ['Unknown', 'Measles', 'Complication', 'Teething'])"
   ]
  },
  {
   "cell_type": "code",
   "execution_count": 6,
   "id": "bac60468",
   "metadata": {},
   "outputs": [
    {
     "data": {
      "text/plain": [
       "Unknown           1899\n",
       "Consumption       1767\n",
       "Cholera           1242\n",
       "Stillborn         1204\n",
       "Complication       748\n",
       "Old Age            604\n",
       "Teething           552\n",
       "Pneumonia          516\n",
       "Flux               469\n",
       "Measles            460\n",
       "Cold               421\n",
       "Typhoid Fever      310\n",
       "Brain Fever        286\n",
       "Dropsy             284\n",
       "Whooping Cough     205\n",
       "Small Pox          196\n",
       "Scarlot Fever      192\n",
       "Infl of Bowels     156\n",
       "Dropsey            151\n",
       "Feever             140\n",
       "Name: Cause of Death/Burial, dtype: int64"
      ]
     },
     "execution_count": 6,
     "metadata": {},
     "output_type": "execute_result"
    }
   ],
   "source": [
    "ncp_df_vc2 = ncp_df['Cause of Death/Burial'].value_counts()\n",
    "ncp_df_vc2.head(20)"
   ]
  },
  {
   "cell_type": "markdown",
   "id": "285ece97",
   "metadata": {},
   "source": [
    "   c. After correcting the spellings, find the 10 most common causes of death and create a bar chart to display your findings.  "
   ]
  },
  {
   "cell_type": "code",
   "execution_count": 7,
   "id": "e105b3c6",
   "metadata": {},
   "outputs": [
    {
     "data": {
      "text/plain": [
       "Text(0.5, 1.0, 'Top 10 Causes for Burial at Nash City Cem')"
      ]
     },
     "execution_count": 7,
     "metadata": {},
     "output_type": "execute_result"
    },
    {
     "data": {
      "image/png": "[encoded data removed]",
      "text/plain": [
       "<Figure size 720x432 with 1 Axes>"
      ]
     },
     "metadata": {
      "needs_background": "light"
     },
     "output_type": "display_data"
    }
   ],
   "source": [
    "#creating a static, sorted top 10\n",
    "ncp_df_vc2 = ncp_df_vc2.sort_values(ascending=False)\n",
    "ncp_df_vc2 = ncp_df_vc2[0:10]\n",
    "#did I need to do that? how would I limit to 10 on the graph if not?\n",
    "\n",
    "plt.figure(figsize=(10, 6))\n",
    "ncp_df_vc2.plot(kind='bar')\n",
    "plt.xticks(rotation = 70)\n",
    "plt.title('Top 10 Causes for Burial at Nash City Cem')"
   ]
  },
  {
   "cell_type": "code",
   "execution_count": 8,
   "id": "029f9bad",
   "metadata": {},
   "outputs": [],
   "source": [
    "#search for a string. I was curious. Note that the wildcard ignores the F, returns *ver\n",
    "# ncp_df[ncp_df['Cause of Death/Burial'].astype('string').str.contains('F*ver')]"
   ]
  },
  {
   "cell_type": "markdown",
   "id": "09557180",
   "metadata": {},
   "source": [
    "3. Create a line chart showing the number of burials per year."
   ]
  },
  {
   "cell_type": "code",
   "execution_count": 55,
   "id": "b08e26bc",
   "metadata": {},
   "outputs": [
    {
     "name": "stdout",
     "output_type": "stream",
     "text": [
      "<class 'pandas.core.frame.DataFrame'>\n",
      "RangeIndex: 19745 entries, 0 to 19744\n",
      "Data columns (total 14 columns):\n",
      " #   Column                 Non-Null Count  Dtype  \n",
      "---  ------                 --------------  -----  \n",
      " 0   Volume                 19745 non-null  object \n",
      " 1   Name                   19740 non-null  object \n",
      " 2   Burial Month           19706 non-null  object \n",
      " 3   Month No.              19706 non-null  float64\n",
      " 4   Burial Day             19691 non-null  float64\n",
      " 5   Burial Year            19745 non-null  int32  \n",
      " 6   Sex                    19503 non-null  object \n",
      " 7   Race                   19698 non-null  object \n",
      " 8   Age                    11071 non-null  float64\n",
      " 9   Residence              19687 non-null  object \n",
      " 10  Cause of Death/Burial  19428 non-null  object \n",
      " 11  Ave                    19092 non-null  object \n",
      " 12  Section/Lot            18625 non-null  object \n",
      " 13  Remarks                16396 non-null  object \n",
      "dtypes: float64(3), int32(1), object(10)\n",
      "memory usage: 2.0+ MB\n"
     ]
    }
   ],
   "source": [
    "#ncp_df['Burial Year'].value_counts()\n",
    "#convert date that's a float to int\n",
    "#ncp_df['Burial Year'] = ncp_df['Burial Year'].astype('int'). didn't work\n",
    "#ncp_df = ncp_df.astype({'Burial Year':'int'}) same error. bc of blanks?\n",
    "ncp_df['Burial Year'] = ncp_df['Burial Year'].fillna(0).astype('int')\n",
    "ncp_df.info()\n",
    "ncp_df = ncp_df[ncp_df['Burial Year'] >0]\n",
    "#worked! Need to ignore 0s?"
   ]
  },
  {
   "cell_type": "code",
   "execution_count": 17,
   "id": "71abc2b9",
   "metadata": {},
   "outputs": [
    {
     "data": {
      "text/plain": [
       "<AxesSubplot:>"
      ]
     },
     "execution_count": 17,
     "metadata": {},
     "output_type": "execute_result"
    },
    {
     "data": {
      "image/png": "[encoded data removed]",
      "text/plain": [
       "<Figure size 432x288 with 1 Axes>"
      ]
     },
     "metadata": {
      "needs_background": "light"
     },
     "output_type": "display_data"
    }
   ],
   "source": [
    "ncp_df['Burial Year'].value_counts().plot(kind='line')\n"
   ]
  },
  {
   "cell_type": "code",
   "execution_count": 30,
   "id": "a0d16030",
   "metadata": {},
   "outputs": [
    {
     "data": {
      "image/png": "[encoded data removed]",
      "text/plain": [
       "<Figure size 432x288 with 1 Axes>"
      ]
     },
     "metadata": {
      "needs_background": "light"
     },
     "output_type": "display_data"
    }
   ],
   "source": [
    "data = ncp_df['Burial Year']\n",
    "plt.plot(data)\n",
    "plt.show()\n"
   ]
  },
  {
   "cell_type": "code",
   "execution_count": 34,
   "id": "f8d09748",
   "metadata": {},
   "outputs": [
    {
     "data": {
      "image/png": "[encoded data removed]",
      "text/plain": [
       "<Figure size 432x288 with 1 Axes>"
      ]
     },
     "metadata": {
      "needs_background": "light"
     },
     "output_type": "display_data"
    }
   ],
   "source": [
    "ncp_df['Burial Year'].value_counts().plot(x='Burial Year',\n",
    "               #y='index',\n",
    "               kind='line', # (facultative) Default argument\n",
    "               grid=True, # Add a grid in the background\n",
    "            )\n",
    "\n",
    "plt.show()"
   ]
  },
  {
   "cell_type": "code",
   "execution_count": 40,
   "id": "12351b63",
   "metadata": {},
   "outputs": [
    {
     "name": "stdout",
     "output_type": "stream",
     "text": [
      "1864    1372\n",
      "1865    1366\n",
      "1866    1354\n",
      "1863     836\n",
      "1850     809\n",
      "        ... \n",
      "1968       1\n",
      "1969       1\n",
      "1970       1\n",
      "1954       1\n",
      "1974       1\n",
      "Name: Burial Year, Length: 129, dtype: int64\n"
     ]
    },
    {
     "data": {
      "text/plain": [
       "<AxesSubplot:>"
      ]
     },
     "execution_count": 40,
     "metadata": {},
     "output_type": "execute_result"
    },
    {
     "data": {
      "image/png": "[encoded data removed]",
      "text/plain": [
       "<Figure size 432x288 with 1 Axes>"
      ]
     },
     "metadata": {
      "needs_background": "light"
     },
     "output_type": "display_data"
    }
   ],
   "source": [
    "by = ncp_df['Burial Year'].value_counts()\n",
    "print(by)\n",
    "by.reset_index()\n",
    "by.plot(kind='line')"
   ]
  },
  {
   "cell_type": "code",
   "execution_count": 47,
   "id": "d6d8850e",
   "metadata": {},
   "outputs": [
    {
     "data": {
      "text/plain": [
       "<AxesSubplot:>"
      ]
     },
     "execution_count": 47,
     "metadata": {},
     "output_type": "execute_result"
    },
    {
     "data": {
      "image/png": "[encoded data removed]",
      "text/plain": [
       "<Figure size 432x288 with 1 Axes>"
      ]
     },
     "metadata": {
      "needs_background": "light"
     },
     "output_type": "display_data"
    }
   ],
   "source": [
    "by.plot(x='blahblah',\n",
    "               y='doesnt matter',\n",
    "               kind='line', # (facultative) Default argument\n",
    "               grid=True, # Add a grid in the background\n",
    "            )"
   ]
  },
  {
   "cell_type": "markdown",
   "id": "edd11883",
   "metadata": {},
   "source": [
    "4. **Burials per Month and Year**  \n",
    "    a. Use the [crosstab function](https://pandas.pydata.org/docs/reference/api/pandas.crosstab.html) to build a summary table showing the number of burials per year per month. You should have one row per year and one column for month.  \n",
    "    b. After creating this summary table, make sure that the year labels are integers (no decimal part) and that the columns are sorted correctly.  \n",
    "    c. Filter your table to show only the years 1846 through 1860.  \n",
    "    **Bonus** Display your table so that highlights any months that had over 100 burials. Hint: Look at styling in pandas: https://pandas.pydata.org/pandas-docs/version/1.0/user_guide/style.html  \n",
    "    d. Go back to your original DataFrame and filter to the year and month that had the largest number of burials. What are the most common causes of death for that month?\n"
   ]
  },
  {
   "cell_type": "code",
   "execution_count": 62,
   "id": "770ada0e",
   "metadata": {},
   "outputs": [],
   "source": [
    "#categorial sort to put months in order by name\n",
    "#years already corrected by my attempts on Q3\n",
    "\n",
    "months = [\"Jan\", \"Feb\", \"Mar\", \"Apr\", \"May\", \"Jun\", \n",
    "          \"Jul\", \"Aug\", \"Sep\", \"Oct\", \"Nov\", \"Dec\"]\n",
    "#df['months'] = pd.Categorical(df['months'], categories=months, ordered=True)\n",
    "ncp_df['Burial Month'] = pd.Categorical(ncp_df['Burial Month'], categories=months, ordered=True)"
   ]
  },
  {
   "cell_type": "code",
   "execution_count": 67,
   "id": "6a5dba84",
   "metadata": {},
   "outputs": [],
   "source": [
    "year_mon_tab = pd.crosstab(ncp_df['Burial Year'], ncp_df['Burial Month'])"
   ]
  },
  {
   "cell_type": "markdown",
   "id": "d07de9bc",
   "metadata": {},
   "source": [
    " c. Filter your table to show only the years 1846 through 1860"
   ]
  },
  {
   "cell_type": "code",
   "execution_count": 69,
   "id": "2bddbbb9",
   "metadata": {},
   "outputs": [
    {
     "data": {
      "text/html": [
       "<div>\n",
       "<style scoped>\n",
       "    .dataframe tbody tr th:only-of-type {\n",
       "        vertical-align: middle;\n",
       "    }\n",
       "\n",
       "    .dataframe tbody tr th {\n",
       "        vertical-align: top;\n",
       "    }\n",
       "\n",
       "    .dataframe thead th {\n",
       "        text-align: right;\n",
       "    }\n",
       "</style>\n",
       "<table border=\"1\" class=\"dataframe\">\n",
       "  <thead>\n",
       "    <tr style=\"text-align: right;\">\n",
       "      <th>Burial Month</th>\n",
       "      <th>Jan</th>\n",
       "      <th>Feb</th>\n",
       "      <th>Mar</th>\n",
       "      <th>Apr</th>\n",
       "      <th>May</th>\n",
       "      <th>Jun</th>\n",
       "      <th>Jul</th>\n",
       "      <th>Aug</th>\n",
       "      <th>Sep</th>\n",
       "      <th>Oct</th>\n",
       "      <th>Nov</th>\n",
       "      <th>Dec</th>\n",
       "    </tr>\n",
       "    <tr>\n",
       "      <th>Burial Year</th>\n",
       "      <th></th>\n",
       "      <th></th>\n",
       "      <th></th>\n",
       "      <th></th>\n",
       "      <th></th>\n",
       "      <th></th>\n",
       "      <th></th>\n",
       "      <th></th>\n",
       "      <th></th>\n",
       "      <th></th>\n",
       "      <th></th>\n",
       "      <th></th>\n",
       "    </tr>\n",
       "  </thead>\n",
       "  <tbody>\n",
       "    <tr>\n",
       "      <th>1846</th>\n",
       "      <td>20</td>\n",
       "      <td>26</td>\n",
       "      <td>25</td>\n",
       "      <td>22</td>\n",
       "      <td>26</td>\n",
       "      <td>0</td>\n",
       "      <td>0</td>\n",
       "      <td>0</td>\n",
       "      <td>35</td>\n",
       "      <td>39</td>\n",
       "      <td>23</td>\n",
       "      <td>30</td>\n",
       "    </tr>\n",
       "    <tr>\n",
       "      <th>1847</th>\n",
       "      <td>43</td>\n",
       "      <td>34</td>\n",
       "      <td>38</td>\n",
       "      <td>35</td>\n",
       "      <td>26</td>\n",
       "      <td>47</td>\n",
       "      <td>40</td>\n",
       "      <td>61</td>\n",
       "      <td>35</td>\n",
       "      <td>47</td>\n",
       "      <td>36</td>\n",
       "      <td>34</td>\n",
       "    </tr>\n",
       "    <tr>\n",
       "      <th>1848</th>\n",
       "      <td>36</td>\n",
       "      <td>36</td>\n",
       "      <td>49</td>\n",
       "      <td>37</td>\n",
       "      <td>41</td>\n",
       "      <td>47</td>\n",
       "      <td>65</td>\n",
       "      <td>39</td>\n",
       "      <td>23</td>\n",
       "      <td>26</td>\n",
       "      <td>21</td>\n",
       "      <td>27</td>\n",
       "    </tr>\n",
       "    <tr>\n",
       "      <th>1849</th>\n",
       "      <td>46</td>\n",
       "      <td>64</td>\n",
       "      <td>64</td>\n",
       "      <td>43</td>\n",
       "      <td>62</td>\n",
       "      <td>231</td>\n",
       "      <td>96</td>\n",
       "      <td>36</td>\n",
       "      <td>28</td>\n",
       "      <td>18</td>\n",
       "      <td>24</td>\n",
       "      <td>33</td>\n",
       "    </tr>\n",
       "    <tr>\n",
       "      <th>1850</th>\n",
       "      <td>24</td>\n",
       "      <td>26</td>\n",
       "      <td>43</td>\n",
       "      <td>29</td>\n",
       "      <td>37</td>\n",
       "      <td>120</td>\n",
       "      <td>370</td>\n",
       "      <td>52</td>\n",
       "      <td>22</td>\n",
       "      <td>27</td>\n",
       "      <td>28</td>\n",
       "      <td>31</td>\n",
       "    </tr>\n",
       "    <tr>\n",
       "      <th>1851</th>\n",
       "      <td>26</td>\n",
       "      <td>31</td>\n",
       "      <td>27</td>\n",
       "      <td>29</td>\n",
       "      <td>26</td>\n",
       "      <td>37</td>\n",
       "      <td>49</td>\n",
       "      <td>35</td>\n",
       "      <td>32</td>\n",
       "      <td>42</td>\n",
       "      <td>14</td>\n",
       "      <td>37</td>\n",
       "    </tr>\n",
       "    <tr>\n",
       "      <th>1852</th>\n",
       "      <td>37</td>\n",
       "      <td>32</td>\n",
       "      <td>39</td>\n",
       "      <td>37</td>\n",
       "      <td>58</td>\n",
       "      <td>84</td>\n",
       "      <td>76</td>\n",
       "      <td>54</td>\n",
       "      <td>31</td>\n",
       "      <td>32</td>\n",
       "      <td>36</td>\n",
       "      <td>36</td>\n",
       "    </tr>\n",
       "    <tr>\n",
       "      <th>1853</th>\n",
       "      <td>35</td>\n",
       "      <td>39</td>\n",
       "      <td>35</td>\n",
       "      <td>31</td>\n",
       "      <td>36</td>\n",
       "      <td>54</td>\n",
       "      <td>47</td>\n",
       "      <td>32</td>\n",
       "      <td>34</td>\n",
       "      <td>27</td>\n",
       "      <td>28</td>\n",
       "      <td>31</td>\n",
       "    </tr>\n",
       "    <tr>\n",
       "      <th>1854</th>\n",
       "      <td>35</td>\n",
       "      <td>33</td>\n",
       "      <td>34</td>\n",
       "      <td>43</td>\n",
       "      <td>61</td>\n",
       "      <td>137</td>\n",
       "      <td>95</td>\n",
       "      <td>44</td>\n",
       "      <td>34</td>\n",
       "      <td>25</td>\n",
       "      <td>25</td>\n",
       "      <td>30</td>\n",
       "    </tr>\n",
       "    <tr>\n",
       "      <th>1855</th>\n",
       "      <td>30</td>\n",
       "      <td>22</td>\n",
       "      <td>20</td>\n",
       "      <td>34</td>\n",
       "      <td>38</td>\n",
       "      <td>58</td>\n",
       "      <td>75</td>\n",
       "      <td>42</td>\n",
       "      <td>54</td>\n",
       "      <td>33</td>\n",
       "      <td>32</td>\n",
       "      <td>38</td>\n",
       "    </tr>\n",
       "    <tr>\n",
       "      <th>1856</th>\n",
       "      <td>29</td>\n",
       "      <td>34</td>\n",
       "      <td>30</td>\n",
       "      <td>33</td>\n",
       "      <td>35</td>\n",
       "      <td>42</td>\n",
       "      <td>51</td>\n",
       "      <td>37</td>\n",
       "      <td>38</td>\n",
       "      <td>43</td>\n",
       "      <td>28</td>\n",
       "      <td>28</td>\n",
       "    </tr>\n",
       "    <tr>\n",
       "      <th>1857</th>\n",
       "      <td>31</td>\n",
       "      <td>34</td>\n",
       "      <td>34</td>\n",
       "      <td>34</td>\n",
       "      <td>34</td>\n",
       "      <td>37</td>\n",
       "      <td>36</td>\n",
       "      <td>35</td>\n",
       "      <td>38</td>\n",
       "      <td>32</td>\n",
       "      <td>23</td>\n",
       "      <td>34</td>\n",
       "    </tr>\n",
       "    <tr>\n",
       "      <th>1858</th>\n",
       "      <td>38</td>\n",
       "      <td>28</td>\n",
       "      <td>34</td>\n",
       "      <td>37</td>\n",
       "      <td>34</td>\n",
       "      <td>28</td>\n",
       "      <td>43</td>\n",
       "      <td>47</td>\n",
       "      <td>21</td>\n",
       "      <td>34</td>\n",
       "      <td>29</td>\n",
       "      <td>42</td>\n",
       "    </tr>\n",
       "    <tr>\n",
       "      <th>1859</th>\n",
       "      <td>41</td>\n",
       "      <td>61</td>\n",
       "      <td>36</td>\n",
       "      <td>35</td>\n",
       "      <td>42</td>\n",
       "      <td>53</td>\n",
       "      <td>42</td>\n",
       "      <td>35</td>\n",
       "      <td>35</td>\n",
       "      <td>34</td>\n",
       "      <td>35</td>\n",
       "      <td>33</td>\n",
       "    </tr>\n",
       "    <tr>\n",
       "      <th>1860</th>\n",
       "      <td>41</td>\n",
       "      <td>35</td>\n",
       "      <td>35</td>\n",
       "      <td>38</td>\n",
       "      <td>53</td>\n",
       "      <td>64</td>\n",
       "      <td>64</td>\n",
       "      <td>49</td>\n",
       "      <td>62</td>\n",
       "      <td>51</td>\n",
       "      <td>39</td>\n",
       "      <td>44</td>\n",
       "    </tr>\n",
       "  </tbody>\n",
       "</table>\n",
       "</div>"
      ],
      "text/plain": [
       "Burial Month  Jan  Feb  Mar  Apr  May  Jun  Jul  Aug  Sep  Oct  Nov  Dec\n",
       "Burial Year                                                             \n",
       "1846           20   26   25   22   26    0    0    0   35   39   23   30\n",
       "1847           43   34   38   35   26   47   40   61   35   47   36   34\n",
       "1848           36   36   49   37   41   47   65   39   23   26   21   27\n",
       "1849           46   64   64   43   62  231   96   36   28   18   24   33\n",
       "1850           24   26   43   29   37  120  370   52   22   27   28   31\n",
       "1851           26   31   27   29   26   37   49   35   32   42   14   37\n",
       "1852           37   32   39   37   58   84   76   54   31   32   36   36\n",
       "1853           35   39   35   31   36   54   47   32   34   27   28   31\n",
       "1854           35   33   34   43   61  137   95   44   34   25   25   30\n",
       "1855           30   22   20   34   38   58   75   42   54   33   32   38\n",
       "1856           29   34   30   33   35   42   51   37   38   43   28   28\n",
       "1857           31   34   34   34   34   37   36   35   38   32   23   34\n",
       "1858           38   28   34   37   34   28   43   47   21   34   29   42\n",
       "1859           41   61   36   35   42   53   42   35   35   34   35   33\n",
       "1860           41   35   35   38   53   64   64   49   62   51   39   44"
      ]
     },
     "execution_count": 69,
     "metadata": {},
     "output_type": "execute_result"
    }
   ],
   "source": [
    "year_mon_tab.loc[1846:1860]"
   ]
  },
  {
   "cell_type": "code",
   "execution_count": null,
   "id": "e38313fc",
   "metadata": {},
   "outputs": [],
   "source": []
  }
 ],
 "metadata": {
  "kernelspec": {
   "display_name": "Python 3 (ipykernel)",
   "language": "python",
   "name": "python3"
  },
  "language_info": {
   "codemirror_mode": {
    "name": "ipython",
    "version": 3
   },
   "file_extension": ".py",
   "mimetype": "text/x-python",
   "name": "python",
   "nbconvert_exporter": "python",
   "pygments_lexer": "ipython3",
   "version": "3.9.7"
  }
 },
 "nbformat": 4,
 "nbformat_minor": 5
}
